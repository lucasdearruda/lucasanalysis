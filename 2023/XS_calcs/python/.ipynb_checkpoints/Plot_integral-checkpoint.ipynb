{
 "cells": [
  {
   "cell_type": "code",
   "execution_count": null,
   "id": "43e29484-5ff0-4d4f-b596-a37297c60beb",
   "metadata": {},
   "outputs": [],
   "source": [
    "import re\n",
    "import matplotlib.pyplot as plt\n",
    "\n",
    "# Nome do arquivo\n",
    "filename = \"../integral_results_Legendre.txt\"\n",
    "\n",
    "# Vamos armazenar cada bloco de dados numa lista de listas (x,y)\n",
    "blocks = []\n",
    "current_block = []\n",
    "\n",
    "with open(filename, \"r\") as f:\n",
    "    for line in f:\n",
    "        line = line.strip()\n",
    "        # Se linha começa com #, é um header, então cria um novo bloco (se já tinha dados salva o bloco)\n",
    "        if line.startswith(\"#\"):\n",
    "            if current_block:\n",
    "                blocks.append(current_block)\n",
    "                current_block = []\n",
    "        elif line:  # linha com dados (não vazia)\n",
    "            # cada linha tem 2 colunas separadas por tab ou espaço\n",
    "            parts = re.split(r'\\s+', line)\n",
    "            if len(parts) == 2:\n",
    "                x, y = map(float, parts)\n",
    "                current_block.append((x, y))\n",
    "    # adiciona o último bloco\n",
    "    if current_block:\n",
    "        blocks.append(current_block)\n",
    "\n",
    "# Agora blocks é uma lista, onde cada elemento é uma lista de (x,y) tuples\n",
    "\n",
    "# Vamos plotar\n",
    "for i, block in enumerate(blocks, 1):\n",
    "    x_vals = [p[0] for p in block]\n",
    "    y_vals = [p[1] for p in block]\n",
    "    plt.plot(x_vals, y_vals, label=f'Block {i}')\n",
    "\n",
    "plt.xlabel(\"En\")\n",
    "plt.ylabel(\"Int(mb)\")\n",
    "plt.title(\"Vários gráficos\")\n",
    "plt.legend()\n",
    "plt.show()\n"
   ]
  }
 ],
 "metadata": {
  "kernelspec": {
   "display_name": "Python 3 (ipykernel)",
   "language": "python",
   "name": "python3"
  },
  "language_info": {
   "codemirror_mode": {
    "name": "ipython",
    "version": 3
   },
   "file_extension": ".py",
   "mimetype": "text/x-python",
   "name": "python",
   "nbconvert_exporter": "python",
   "pygments_lexer": "ipython3",
   "version": "3.12.2"
  }
 },
 "nbformat": 4,
 "nbformat_minor": 5
}
